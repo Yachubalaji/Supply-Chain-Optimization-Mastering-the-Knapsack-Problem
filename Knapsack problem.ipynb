{
 "cells": [
  {
   "cell_type": "markdown",
   "id": "db33e767",
   "metadata": {},
   "source": [
    "### Knapsack Problem\n",
    "\n",
    "$$\n",
    "\\begin{align*}\n",
    "\\max \\quad & \\sum_{i=1}^{n} v_i x_i & \\\\\n",
    "\\text{S.t.:} \\quad & \\sum_{i=1}^{n} w_i x_{i} \\leq C & \\\\\n",
    "& x_{i} \\in \\{0,1\\} & (i = 1, 2, \\dots, n)\n",
    "\\end{align*}\n",
    "$$\n",
    "\n",
    "### Parameters\n",
    "- $n$ is the number of items \n",
    "- $w_i$ is the wight of item $i$\n",
    "- $v_i$ is the value of item $i$ \n",
    "- $C$ is the capacity of knapsack\n",
    "\n",
    "### Decision Variables\n",
    "- $x_{i} =  \n",
    "\\begin{cases}\n",
    "    1,& \\text{if item} \\ i \\ \\text{is selected}\\\\\n",
    "    0,              & \\text{otherwise}\n",
    "\\end{cases}$\n",
    " "
   ]
  },
  {
   "cell_type": "code",
   "execution_count": 1,
   "id": "ddaa353c",
   "metadata": {},
   "outputs": [],
   "source": [
    "import gurobipy as gp\n",
    "from gurobipy import *\n",
    "import numpy as np\n",
    "import pandas as pd\n",
    "import time"
   ]
  },
  {
   "cell_type": "markdown",
   "id": "fcced66d",
   "metadata": {},
   "source": [
    "We can identify the number of items here"
   ]
  },
  {
   "cell_type": "code",
   "execution_count": 2,
   "id": "83532b58",
   "metadata": {},
   "outputs": [],
   "source": [
    "n = 50000"
   ]
  },
  {
   "cell_type": "markdown",
   "id": "2dc52348",
   "metadata": {},
   "source": [
    "Then, we can randomly generate:\n",
    "- Value of the item\n",
    "- Weight of the item\n",
    "- Capacity of the knapsack\n",
    "    "
   ]
  },
  {
   "cell_type": "code",
   "execution_count": 3,
   "id": "550d8ad0",
   "metadata": {},
   "outputs": [],
   "source": [
    "v = np.random.randint(6, 100, n)\n",
    "w = np.random.randint(6, 100, n)\n",
    "c = np.random.randint(200, 50000)"
   ]
  },
  {
   "cell_type": "markdown",
   "id": "5963cb85",
   "metadata": {},
   "source": [
    "Model initialization"
   ]
  },
  {
   "cell_type": "code",
   "execution_count": 4,
   "id": "3f8d6694",
   "metadata": {},
   "outputs": [
    {
     "name": "stdout",
     "output_type": "stream",
     "text": [
      "Set parameter Username\n",
      "Academic license - for non-commercial use only - expires 2024-10-13\n"
     ]
    }
   ],
   "source": [
    "model = gp.Model('Kanpsack')"
   ]
  },
  {
   "cell_type": "markdown",
   "id": "8f73bc1d",
   "metadata": {},
   "source": [
    "Adding Variables"
   ]
  },
  {
   "cell_type": "code",
   "execution_count": 5,
   "id": "77c1df77",
   "metadata": {},
   "outputs": [],
   "source": [
    "x = model.addVars(n, vtype = GRB.BINARY, name = 'x' )"
   ]
  },
  {
   "cell_type": "markdown",
   "id": "6dfdd46d",
   "metadata": {},
   "source": [
    "Adding Constraints"
   ]
  },
  {
   "cell_type": "code",
   "execution_count": 6,
   "id": "90c36329",
   "metadata": {},
   "outputs": [
    {
     "data": {
      "text/plain": [
       "<gurobi.Constr *Awaiting Model Update*>"
      ]
     },
     "execution_count": 6,
     "metadata": {},
     "output_type": "execute_result"
    }
   ],
   "source": [
    "model.addConstr((quicksum(w[i] * x[i] for i in range(n)) <= c), name = \"knapsack\")"
   ]
  },
  {
   "cell_type": "markdown",
   "id": "e1903c99",
   "metadata": {},
   "source": [
    "Set Objective Function:"
   ]
  },
  {
   "cell_type": "code",
   "execution_count": 7,
   "id": "05257872",
   "metadata": {},
   "outputs": [],
   "source": [
    "model.setObjective(quicksum(v[i] * x[i] for i in range(n)), GRB.MAXIMIZE)"
   ]
  },
  {
   "cell_type": "markdown",
   "id": "90837d4d",
   "metadata": {},
   "source": [
    "Update & Write the Model"
   ]
  },
  {
   "cell_type": "code",
   "execution_count": 8,
   "id": "d8b4e6ca",
   "metadata": {},
   "outputs": [],
   "source": [
    "model.update()\n",
    "model.write('knapsack.lp')"
   ]
  },
  {
   "cell_type": "markdown",
   "id": "18215cfc",
   "metadata": {},
   "source": [
    "Solving the model and printing the solution"
   ]
  },
  {
   "cell_type": "code",
   "execution_count": 9,
   "id": "80c6fd66",
   "metadata": {},
   "outputs": [
    {
     "name": "stdout",
     "output_type": "stream",
     "text": [
      "Gurobi Optimizer version 10.0.3 build v10.0.3rc0 (mac64[arm])\n",
      "\n",
      "CPU model: Apple M1\n",
      "Thread count: 8 physical cores, 8 logical processors, using up to 8 threads\n",
      "\n",
      "Optimize a model with 1 rows, 50000 columns and 50000 nonzeros\n",
      "Model fingerprint: 0x8cd2608f\n",
      "Variable types: 0 continuous, 50000 integer (50000 binary)\n",
      "Coefficient statistics:\n",
      "  Matrix range     [6e+00, 1e+02]\n",
      "  Objective range  [6e+00, 1e+02]\n",
      "  Bounds range     [1e+00, 1e+00]\n",
      "  RHS range        [5e+02, 5e+02]\n",
      "Found heuristic solution: objective 563.0000000\n",
      "Presolve removed 0 rows and 46504 columns\n",
      "Presolve time: 0.04s\n",
      "Presolved: 1 rows, 3496 columns, 3496 nonzeros\n",
      "Found heuristic solution: objective 2438.0000000\n",
      "Variable types: 0 continuous, 3496 integer (79 binary)\n",
      "Found heuristic solution: objective 2904.0000000\n",
      "\n",
      "Root relaxation: objective 7.626833e+03, 1 iterations, 0.00 seconds (0.00 work units)\n",
      "\n",
      "    Nodes    |    Current Node    |     Objective Bounds      |     Work\n",
      " Expl Unexpl |  Obj  Depth IntInf | Incumbent    BestBd   Gap | It/Node Time\n",
      "\n",
      "     0     0 7626.83333    0    1 2904.00000 7626.83333   163%     -    0s\n",
      "H    0     0                    7558.0000000 7626.83333  0.91%     -    0s\n",
      "H    0     0                    7619.0000000 7626.83333  0.10%     -    0s\n",
      "H    0     0                    7622.0000000 7626.83333  0.06%     -    0s\n",
      "\n",
      "Cutting planes:\n",
      "  MIR: 1\n",
      "\n",
      "Explored 1 nodes (1 simplex iterations) in 0.08 seconds (0.09 work units)\n",
      "Thread count was 8 (of 8 available processors)\n",
      "\n",
      "Solution count 6: 7622 7619 7558 ... 563\n",
      "\n",
      "Optimal solution found (tolerance 1.00e-04)\n",
      "Best objective 7.622000000000e+03, best bound 7.622000000000e+03, gap 0.0000%\n"
     ]
    }
   ],
   "source": [
    "start = time.time()\n",
    "model.optimize()\n",
    "end = time.time()"
   ]
  },
  {
   "cell_type": "code",
   "execution_count": 10,
   "id": "641dbf9d",
   "metadata": {},
   "outputs": [],
   "source": [
    "def print_solution(model):\n",
    "    if model.status != GRB.OPTIMAL:\n",
    "        print(\"Model is not optimized\")\n",
    "    else:\n",
    "        print(\"Objective Function Value:\", model.objVal)\n",
    "        print(\"Solution Time:\", end - start, 'seconds.')\n",
    "        print(\"==============================================\")\n",
    "        vars = model.getVars()\n",
    "        values = model.getAttr('x', vars)\n",
    "        for var, val in zip(vars, values):\n",
    "            if val > 1e-6:\n",
    "                print(f\"{var.varName}: {val}\")  "
   ]
  },
  {
   "cell_type": "code",
   "execution_count": 11,
   "id": "21aea0e7",
   "metadata": {},
   "outputs": [
    {
     "name": "stdout",
     "output_type": "stream",
     "text": [
      "Objective Function Value: 7622.0\n",
      "Solution Time: 0.0812079906463623 seconds.\n",
      "==============================================\n",
      "x[430]: 1.0\n",
      "x[1653]: 1.0\n",
      "x[3300]: 1.0\n",
      "x[3603]: 1.0\n",
      "x[3661]: 1.0\n",
      "x[3875]: 1.0\n",
      "x[4754]: 1.0\n",
      "x[4774]: 1.0\n",
      "x[5190]: 1.0\n",
      "x[6009]: 1.0\n",
      "x[6288]: 1.0\n",
      "x[7189]: 1.0\n",
      "x[8266]: 1.0\n",
      "x[8375]: 1.0\n",
      "x[9355]: 1.0\n",
      "x[9801]: 1.0\n",
      "x[10143]: 1.0\n",
      "x[10422]: 1.0\n",
      "x[11238]: 1.0\n",
      "x[12273]: 1.0\n",
      "x[12853]: 1.0\n",
      "x[14854]: 1.0\n",
      "x[15021]: 1.0\n",
      "x[15320]: 1.0\n",
      "x[16744]: 1.0\n",
      "x[17230]: 1.0\n",
      "x[17817]: 1.0\n",
      "x[18012]: 1.0\n",
      "x[18359]: 1.0\n",
      "x[19058]: 1.0\n",
      "x[19246]: 1.0\n",
      "x[19917]: 1.0\n",
      "x[20087]: 1.0\n",
      "x[20221]: 1.0\n",
      "x[20732]: 1.0\n",
      "x[21434]: 1.0\n",
      "x[21745]: 1.0\n",
      "x[22359]: 1.0\n",
      "x[24936]: 1.0\n",
      "x[25058]: 1.0\n",
      "x[26704]: 1.0\n",
      "x[28535]: 1.0\n",
      "x[28674]: 1.0\n",
      "x[30517]: 1.0\n",
      "x[30713]: 1.0\n",
      "x[30795]: 1.0\n",
      "x[34883]: 1.0\n",
      "x[35690]: 1.0\n",
      "x[35903]: 1.0\n",
      "x[36364]: 1.0\n",
      "x[37799]: 1.0\n",
      "x[38278]: 1.0\n",
      "x[38781]: 1.0\n",
      "x[39440]: 1.0\n",
      "x[39578]: 1.0\n",
      "x[40051]: 1.0\n",
      "x[40258]: 1.0\n",
      "x[40271]: 1.0\n",
      "x[40529]: 1.0\n",
      "x[41306]: 1.0\n",
      "x[42215]: 1.0\n",
      "x[42273]: 1.0\n",
      "x[42814]: 1.0\n",
      "x[43034]: 1.0\n",
      "x[43748]: 1.0\n",
      "x[43771]: 1.0\n",
      "x[45243]: 1.0\n",
      "x[45562]: 1.0\n",
      "x[46125]: 1.0\n",
      "x[46387]: 1.0\n",
      "x[46657]: 1.0\n",
      "x[46991]: 1.0\n",
      "x[47805]: 1.0\n",
      "x[48111]: 1.0\n",
      "x[48271]: 1.0\n",
      "x[48440]: 1.0\n",
      "x[48797]: 1.0\n",
      "x[48811]: 1.0\n",
      "x[49110]: 1.0\n",
      "x[49712]: 1.0\n",
      "x[49728]: 1.0\n",
      "x[49813]: 1.0\n"
     ]
    }
   ],
   "source": [
    "print_solution(model)"
   ]
  }
 ],
 "metadata": {
  "kernelspec": {
   "display_name": "Python 3 (ipykernel)",
   "language": "python",
   "name": "python3"
  },
  "language_info": {
   "codemirror_mode": {
    "name": "ipython",
    "version": 3
   },
   "file_extension": ".py",
   "mimetype": "text/x-python",
   "name": "python",
   "nbconvert_exporter": "python",
   "pygments_lexer": "ipython3",
   "version": "3.11.5"
  },
  "vscode": {
   "interpreter": {
    "hash": "8ec1ed4803a557ac69aab47dceed289cc9effadaf04c1eb59c412c7bd577a542"
   }
  }
 },
 "nbformat": 4,
 "nbformat_minor": 5
}
